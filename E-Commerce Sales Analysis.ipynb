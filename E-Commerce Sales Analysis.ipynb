{
 "cells": [
  {
   "cell_type": "code",
   "execution_count": 1,
   "id": "34a9ac0d",
   "metadata": {},
   "outputs": [],
   "source": [
    "import numpy as np\n",
    "import pandas as pd\n",
    "import matplotlib.pyplot as plt\n",
    "import seaborn as sns"
   ]
  },
  {
   "cell_type": "code",
   "execution_count": 2,
   "id": "22f91f9b",
   "metadata": {},
   "outputs": [],
   "source": [
    "df = pd.read_csv('ecommerce_sales_data.csv')"
   ]
  },
  {
   "cell_type": "code",
   "execution_count": 3,
   "id": "6a15ba36",
   "metadata": {},
   "outputs": [
    {
     "data": {
      "text/html": [
       "<div>\n",
       "<style scoped>\n",
       "    .dataframe tbody tr th:only-of-type {\n",
       "        vertical-align: middle;\n",
       "    }\n",
       "\n",
       "    .dataframe tbody tr th {\n",
       "        vertical-align: top;\n",
       "    }\n",
       "\n",
       "    .dataframe thead th {\n",
       "        text-align: right;\n",
       "    }\n",
       "</style>\n",
       "<table border=\"1\" class=\"dataframe\">\n",
       "  <thead>\n",
       "    <tr style=\"text-align: right;\">\n",
       "      <th></th>\n",
       "      <th>Order ID</th>\n",
       "      <th>Product Name</th>\n",
       "      <th>Category</th>\n",
       "      <th>Price</th>\n",
       "      <th>Quantity</th>\n",
       "      <th>Total Sales</th>\n",
       "      <th>Customer ID</th>\n",
       "      <th>Customer Age</th>\n",
       "      <th>Customer Gender</th>\n",
       "      <th>Purchase Date</th>\n",
       "      <th>Purchase Time</th>\n",
       "    </tr>\n",
       "  </thead>\n",
       "  <tbody>\n",
       "    <tr>\n",
       "      <th>0</th>\n",
       "      <td>261e3740-c0e9-42b1-bf87-881ac950fa3a</td>\n",
       "      <td>audience</td>\n",
       "      <td>Home &amp; Garden</td>\n",
       "      <td>766.85</td>\n",
       "      <td>4</td>\n",
       "      <td>3067.40</td>\n",
       "      <td>81af1248-afff-46ee-a091-81cf33d0d957</td>\n",
       "      <td>39</td>\n",
       "      <td>Male</td>\n",
       "      <td>25-05-2024</td>\n",
       "      <td>06:28:14</td>\n",
       "    </tr>\n",
       "    <tr>\n",
       "      <th>1</th>\n",
       "      <td>0b332b34-46dc-4eaf-a808-fec7e97ffbc6</td>\n",
       "      <td>such</td>\n",
       "      <td>Clothing</td>\n",
       "      <td>331.42</td>\n",
       "      <td>4</td>\n",
       "      <td>1325.68</td>\n",
       "      <td>f3f3f4ac-7ad0-4362-9134-383096d16ac8</td>\n",
       "      <td>21</td>\n",
       "      <td>Male</td>\n",
       "      <td>04-05-2024</td>\n",
       "      <td>19:37:36</td>\n",
       "    </tr>\n",
       "    <tr>\n",
       "      <th>2</th>\n",
       "      <td>432e0b36-724d-4521-85ae-f66db8af8105</td>\n",
       "      <td>read</td>\n",
       "      <td>Clothing</td>\n",
       "      <td>708.10</td>\n",
       "      <td>10</td>\n",
       "      <td>7081.00</td>\n",
       "      <td>c4fc4269-3c1d-4b6b-ad23-d437c328d63f</td>\n",
       "      <td>27</td>\n",
       "      <td>Female</td>\n",
       "      <td>07-05-2024</td>\n",
       "      <td>17:54:42</td>\n",
       "    </tr>\n",
       "    <tr>\n",
       "      <th>3</th>\n",
       "      <td>ca20fb08-5c65-43b8-9577-3fa49913f93b</td>\n",
       "      <td>skill</td>\n",
       "      <td>Electronics</td>\n",
       "      <td>774.09</td>\n",
       "      <td>2</td>\n",
       "      <td>1548.18</td>\n",
       "      <td>578e2d1a-d92a-449d-8eeb-b704110b2975</td>\n",
       "      <td>51</td>\n",
       "      <td>Female</td>\n",
       "      <td>23-05-2024</td>\n",
       "      <td>22:31:43</td>\n",
       "    </tr>\n",
       "    <tr>\n",
       "      <th>4</th>\n",
       "      <td>1dce189c-8c60-455f-a6f2-69bb2cb71539</td>\n",
       "      <td>cold</td>\n",
       "      <td>Electronics</td>\n",
       "      <td>397.22</td>\n",
       "      <td>1</td>\n",
       "      <td>397.22</td>\n",
       "      <td>dc6ed196-0874-46bd-bbb9-c5534f619349</td>\n",
       "      <td>45</td>\n",
       "      <td>Female</td>\n",
       "      <td>15-03-2024</td>\n",
       "      <td>03:08:25</td>\n",
       "    </tr>\n",
       "  </tbody>\n",
       "</table>\n",
       "</div>"
      ],
      "text/plain": [
       "                               Order ID Product Name       Category   Price  \\\n",
       "0  261e3740-c0e9-42b1-bf87-881ac950fa3a     audience  Home & Garden  766.85   \n",
       "1  0b332b34-46dc-4eaf-a808-fec7e97ffbc6         such       Clothing  331.42   \n",
       "2  432e0b36-724d-4521-85ae-f66db8af8105         read       Clothing  708.10   \n",
       "3  ca20fb08-5c65-43b8-9577-3fa49913f93b        skill    Electronics  774.09   \n",
       "4  1dce189c-8c60-455f-a6f2-69bb2cb71539         cold    Electronics  397.22   \n",
       "\n",
       "   Quantity  Total Sales                           Customer ID  Customer Age  \\\n",
       "0         4      3067.40  81af1248-afff-46ee-a091-81cf33d0d957            39   \n",
       "1         4      1325.68  f3f3f4ac-7ad0-4362-9134-383096d16ac8            21   \n",
       "2        10      7081.00  c4fc4269-3c1d-4b6b-ad23-d437c328d63f            27   \n",
       "3         2      1548.18  578e2d1a-d92a-449d-8eeb-b704110b2975            51   \n",
       "4         1       397.22  dc6ed196-0874-46bd-bbb9-c5534f619349            45   \n",
       "\n",
       "  Customer Gender Purchase Date Purchase Time  \n",
       "0            Male    25-05-2024      06:28:14  \n",
       "1            Male    04-05-2024      19:37:36  \n",
       "2          Female    07-05-2024      17:54:42  \n",
       "3          Female    23-05-2024      22:31:43  \n",
       "4          Female    15-03-2024      03:08:25  "
      ]
     },
     "execution_count": 3,
     "metadata": {},
     "output_type": "execute_result"
    }
   ],
   "source": [
    "df.head(5)"
   ]
  },
  {
   "cell_type": "code",
   "execution_count": 4,
   "id": "87ed8e0c",
   "metadata": {},
   "outputs": [
    {
     "name": "stdout",
     "output_type": "stream",
     "text": [
      "Total Rows : 100000\n",
      "Total Columns : 11\n"
     ]
    }
   ],
   "source": [
    "# Total Rows and Columns\n",
    "print(\"Total Rows :\", df.shape[0])\n",
    "print(\"Total Columns :\", df.shape[1])"
   ]
  },
  {
   "cell_type": "code",
   "execution_count": 5,
   "id": "fbb2089a",
   "metadata": {},
   "outputs": [
    {
     "data": {
      "text/html": [
       "<div>\n",
       "<style scoped>\n",
       "    .dataframe tbody tr th:only-of-type {\n",
       "        vertical-align: middle;\n",
       "    }\n",
       "\n",
       "    .dataframe tbody tr th {\n",
       "        vertical-align: top;\n",
       "    }\n",
       "\n",
       "    .dataframe thead th {\n",
       "        text-align: right;\n",
       "    }\n",
       "</style>\n",
       "<table border=\"1\" class=\"dataframe\">\n",
       "  <thead>\n",
       "    <tr style=\"text-align: right;\">\n",
       "      <th></th>\n",
       "      <th>Feature</th>\n",
       "      <th>df Type</th>\n",
       "      <th>Null</th>\n",
       "      <th>Null (%)</th>\n",
       "      <th>Unique</th>\n",
       "      <th>Unique Sample</th>\n",
       "    </tr>\n",
       "  </thead>\n",
       "  <tbody>\n",
       "    <tr>\n",
       "      <th>0</th>\n",
       "      <td>Order ID</td>\n",
       "      <td>object</td>\n",
       "      <td>0</td>\n",
       "      <td>0.0</td>\n",
       "      <td>100000</td>\n",
       "      <td>[261e3740-c0e9-42b1-bf87-881ac950fa3a, 0b332b3...</td>\n",
       "    </tr>\n",
       "    <tr>\n",
       "      <th>1</th>\n",
       "      <td>Product Name</td>\n",
       "      <td>object</td>\n",
       "      <td>0</td>\n",
       "      <td>0.0</td>\n",
       "      <td>971</td>\n",
       "      <td>[audience, such, read, skill, cold]</td>\n",
       "    </tr>\n",
       "    <tr>\n",
       "      <th>2</th>\n",
       "      <td>Category</td>\n",
       "      <td>object</td>\n",
       "      <td>0</td>\n",
       "      <td>0.0</td>\n",
       "      <td>5</td>\n",
       "      <td>[Home &amp; Garden, Clothing, Electronics, Books, ...</td>\n",
       "    </tr>\n",
       "    <tr>\n",
       "      <th>3</th>\n",
       "      <td>Price</td>\n",
       "      <td>float64</td>\n",
       "      <td>0</td>\n",
       "      <td>0.0</td>\n",
       "      <td>60397</td>\n",
       "      <td>[766.85, 331.42, 708.1, 774.09, 397.22]</td>\n",
       "    </tr>\n",
       "    <tr>\n",
       "      <th>4</th>\n",
       "      <td>Quantity</td>\n",
       "      <td>int64</td>\n",
       "      <td>0</td>\n",
       "      <td>0.0</td>\n",
       "      <td>10</td>\n",
       "      <td>[4, 10, 2, 1, 8]</td>\n",
       "    </tr>\n",
       "    <tr>\n",
       "      <th>5</th>\n",
       "      <td>Total Sales</td>\n",
       "      <td>float64</td>\n",
       "      <td>0</td>\n",
       "      <td>0.0</td>\n",
       "      <td>87149</td>\n",
       "      <td>[3067.4, 1325.68, 7081.0, 1548.18, 397.22]</td>\n",
       "    </tr>\n",
       "    <tr>\n",
       "      <th>6</th>\n",
       "      <td>Customer ID</td>\n",
       "      <td>object</td>\n",
       "      <td>0</td>\n",
       "      <td>0.0</td>\n",
       "      <td>100000</td>\n",
       "      <td>[81af1248-afff-46ee-a091-81cf33d0d957, f3f3f4a...</td>\n",
       "    </tr>\n",
       "    <tr>\n",
       "      <th>7</th>\n",
       "      <td>Customer Age</td>\n",
       "      <td>int64</td>\n",
       "      <td>0</td>\n",
       "      <td>0.0</td>\n",
       "      <td>53</td>\n",
       "      <td>[39, 21, 27, 51, 45]</td>\n",
       "    </tr>\n",
       "    <tr>\n",
       "      <th>8</th>\n",
       "      <td>Customer Gender</td>\n",
       "      <td>object</td>\n",
       "      <td>0</td>\n",
       "      <td>0.0</td>\n",
       "      <td>2</td>\n",
       "      <td>[Male, Female]</td>\n",
       "    </tr>\n",
       "    <tr>\n",
       "      <th>9</th>\n",
       "      <td>Purchase Date</td>\n",
       "      <td>object</td>\n",
       "      <td>0</td>\n",
       "      <td>0.0</td>\n",
       "      <td>156</td>\n",
       "      <td>[25-05-2024, 04-05-2024, 07-05-2024, 23-05-202...</td>\n",
       "    </tr>\n",
       "    <tr>\n",
       "      <th>10</th>\n",
       "      <td>Purchase Time</td>\n",
       "      <td>object</td>\n",
       "      <td>0</td>\n",
       "      <td>0.0</td>\n",
       "      <td>59347</td>\n",
       "      <td>[06:28:14, 19:37:36, 17:54:42, 22:31:43, 03:08...</td>\n",
       "    </tr>\n",
       "  </tbody>\n",
       "</table>\n",
       "</div>"
      ],
      "text/plain": [
       "            Feature  df Type   Null   Null (%)   Unique  \\\n",
       "0          Order ID   object      0        0.0   100000   \n",
       "1      Product Name   object      0        0.0      971   \n",
       "2          Category   object      0        0.0        5   \n",
       "3             Price  float64      0        0.0    60397   \n",
       "4          Quantity    int64      0        0.0       10   \n",
       "5       Total Sales  float64      0        0.0    87149   \n",
       "6       Customer ID   object      0        0.0   100000   \n",
       "7      Customer Age    int64      0        0.0       53   \n",
       "8   Customer Gender   object      0        0.0        2   \n",
       "9     Purchase Date   object      0        0.0      156   \n",
       "10    Purchase Time   object      0        0.0    59347   \n",
       "\n",
       "                                        Unique Sample  \n",
       "0   [261e3740-c0e9-42b1-bf87-881ac950fa3a, 0b332b3...  \n",
       "1                 [audience, such, read, skill, cold]  \n",
       "2   [Home & Garden, Clothing, Electronics, Books, ...  \n",
       "3             [766.85, 331.42, 708.1, 774.09, 397.22]  \n",
       "4                                    [4, 10, 2, 1, 8]  \n",
       "5          [3067.4, 1325.68, 7081.0, 1548.18, 397.22]  \n",
       "6   [81af1248-afff-46ee-a091-81cf33d0d957, f3f3f4a...  \n",
       "7                                [39, 21, 27, 51, 45]  \n",
       "8                                      [Male, Female]  \n",
       "9   [25-05-2024, 04-05-2024, 07-05-2024, 23-05-202...  \n",
       "10  [06:28:14, 19:37:36, 17:54:42, 22:31:43, 03:08...  "
      ]
     },
     "execution_count": 5,
     "metadata": {},
     "output_type": "execute_result"
    }
   ],
   "source": [
    "list_item = []\n",
    "for col in df.columns:\n",
    "    list_item.append([col, df[col].dtype, df[col].isna().sum(), 100*df[col].isna().sum()/len(df[col]), df[col].nunique(), \n",
    "                      df[col].unique()[:5]])\n",
    "desc_df = pd.DataFrame(data=list_item, columns='Feature, df Type, Null, Null (%), Unique, Unique Sample' .split(\",\"))\n",
    "desc_df"
   ]
  },
  {
   "cell_type": "code",
   "execution_count": 6,
   "id": "f6ce2586",
   "metadata": {},
   "outputs": [
    {
     "data": {
      "text/html": [
       "<div>\n",
       "<style scoped>\n",
       "    .dataframe tbody tr th:only-of-type {\n",
       "        vertical-align: middle;\n",
       "    }\n",
       "\n",
       "    .dataframe tbody tr th {\n",
       "        vertical-align: top;\n",
       "    }\n",
       "\n",
       "    .dataframe thead th {\n",
       "        text-align: right;\n",
       "    }\n",
       "</style>\n",
       "<table border=\"1\" class=\"dataframe\">\n",
       "  <thead>\n",
       "    <tr style=\"text-align: right;\">\n",
       "      <th></th>\n",
       "      <th>Price</th>\n",
       "      <th>Quantity</th>\n",
       "      <th>Total Sales</th>\n",
       "      <th>Customer Age</th>\n",
       "    </tr>\n",
       "  </thead>\n",
       "  <tbody>\n",
       "    <tr>\n",
       "      <th>count</th>\n",
       "      <td>100000.000000</td>\n",
       "      <td>100000.000000</td>\n",
       "      <td>100000.000000</td>\n",
       "      <td>100000.00000</td>\n",
       "    </tr>\n",
       "    <tr>\n",
       "      <th>mean</th>\n",
       "      <td>550.550363</td>\n",
       "      <td>5.493160</td>\n",
       "      <td>3027.926702</td>\n",
       "      <td>44.01757</td>\n",
       "    </tr>\n",
       "    <tr>\n",
       "      <th>std</th>\n",
       "      <td>260.558267</td>\n",
       "      <td>2.882013</td>\n",
       "      <td>2274.140853</td>\n",
       "      <td>15.30850</td>\n",
       "    </tr>\n",
       "    <tr>\n",
       "      <th>min</th>\n",
       "      <td>100.050000</td>\n",
       "      <td>1.000000</td>\n",
       "      <td>100.050000</td>\n",
       "      <td>18.00000</td>\n",
       "    </tr>\n",
       "    <tr>\n",
       "      <th>25%</th>\n",
       "      <td>323.967500</td>\n",
       "      <td>3.000000</td>\n",
       "      <td>1153.515000</td>\n",
       "      <td>31.00000</td>\n",
       "    </tr>\n",
       "    <tr>\n",
       "      <th>50%</th>\n",
       "      <td>551.100000</td>\n",
       "      <td>5.000000</td>\n",
       "      <td>2433.885000</td>\n",
       "      <td>44.00000</td>\n",
       "    </tr>\n",
       "    <tr>\n",
       "      <th>75%</th>\n",
       "      <td>777.125000</td>\n",
       "      <td>8.000000</td>\n",
       "      <td>4443.337500</td>\n",
       "      <td>57.00000</td>\n",
       "    </tr>\n",
       "    <tr>\n",
       "      <th>max</th>\n",
       "      <td>999.990000</td>\n",
       "      <td>10.000000</td>\n",
       "      <td>9999.400000</td>\n",
       "      <td>70.00000</td>\n",
       "    </tr>\n",
       "  </tbody>\n",
       "</table>\n",
       "</div>"
      ],
      "text/plain": [
       "               Price       Quantity    Total Sales  Customer Age\n",
       "count  100000.000000  100000.000000  100000.000000  100000.00000\n",
       "mean      550.550363       5.493160    3027.926702      44.01757\n",
       "std       260.558267       2.882013    2274.140853      15.30850\n",
       "min       100.050000       1.000000     100.050000      18.00000\n",
       "25%       323.967500       3.000000    1153.515000      31.00000\n",
       "50%       551.100000       5.000000    2433.885000      44.00000\n",
       "75%       777.125000       8.000000    4443.337500      57.00000\n",
       "max       999.990000      10.000000    9999.400000      70.00000"
      ]
     },
     "execution_count": 6,
     "metadata": {},
     "output_type": "execute_result"
    }
   ],
   "source": [
    "# Statistics about the data set\n",
    "df.describe()"
   ]
  },
  {
   "cell_type": "code",
   "execution_count": 7,
   "id": "888c2b2d",
   "metadata": {},
   "outputs": [
    {
     "data": {
      "text/plain": [
       "Order ID           0\n",
       "Product Name       0\n",
       "Category           0\n",
       "Price              0\n",
       "Quantity           0\n",
       "Total Sales        0\n",
       "Customer ID        0\n",
       "Customer Age       0\n",
       "Customer Gender    0\n",
       "Purchase Date      0\n",
       "Purchase Time      0\n",
       "dtype: int64"
      ]
     },
     "execution_count": 7,
     "metadata": {},
     "output_type": "execute_result"
    }
   ],
   "source": [
    "# Check missing values\n",
    "df.isnull().sum()"
   ]
  },
  {
   "cell_type": "code",
   "execution_count": 8,
   "id": "84293cc6",
   "metadata": {},
   "outputs": [
    {
     "data": {
      "text/plain": [
       "0"
      ]
     },
     "execution_count": 8,
     "metadata": {},
     "output_type": "execute_result"
    }
   ],
   "source": [
    "# Check duplicated value\n",
    "df.duplicated().sum()"
   ]
  },
  {
   "cell_type": "code",
   "execution_count": 9,
   "id": "6f1f7bd7",
   "metadata": {},
   "outputs": [
    {
     "data": {
      "text/plain": [
       "Price           0\n",
       "Quantity        0\n",
       "Total Sales     0\n",
       "Customer Age    0\n",
       "dtype: int64"
      ]
     },
     "execution_count": 9,
     "metadata": {},
     "output_type": "execute_result"
    }
   ],
   "source": [
    "# Outlier Detection\n",
    "numerical_cols = df.select_dtypes(include=['float64', 'int64']).columns\n",
    "Q1 = df[numerical_cols].quantile(0.25)\n",
    "Q3 = df[numerical_cols].quantile(0.75)\n",
    "IQR = Q3 - Q1\n",
    "outliers = ((df[numerical_cols] < (Q1 - 1.5 * IQR)) | df[numerical_cols] > (Q3 + 1.5 * IQR)).sum()\n",
    "outliers"
   ]
  },
  {
   "cell_type": "code",
   "execution_count": 10,
   "id": "9f07e002",
   "metadata": {},
   "outputs": [],
   "source": [
    "# Drop unnecessary columns\n",
    "df.drop(['Order ID', 'Product Name', 'Customer ID', 'Purchase Time'], axis=1, inplace=True)"
   ]
  },
  {
   "cell_type": "code",
   "execution_count": 11,
   "id": "1968e2e2",
   "metadata": {},
   "outputs": [],
   "source": [
    "df.rename(columns = {\"Total Sales\": \"Sales\", \"Customer Age\": \"Age\", \"Customer Gender\": \"Gender\",\n",
    "                    \"Purchase Date\": \"Date\"}, inplace=True)"
   ]
  },
  {
   "cell_type": "code",
   "execution_count": 12,
   "id": "44584a51",
   "metadata": {},
   "outputs": [
    {
     "data": {
      "text/html": [
       "<div>\n",
       "<style scoped>\n",
       "    .dataframe tbody tr th:only-of-type {\n",
       "        vertical-align: middle;\n",
       "    }\n",
       "\n",
       "    .dataframe tbody tr th {\n",
       "        vertical-align: top;\n",
       "    }\n",
       "\n",
       "    .dataframe thead th {\n",
       "        text-align: right;\n",
       "    }\n",
       "</style>\n",
       "<table border=\"1\" class=\"dataframe\">\n",
       "  <thead>\n",
       "    <tr style=\"text-align: right;\">\n",
       "      <th></th>\n",
       "      <th>Category</th>\n",
       "      <th>Price</th>\n",
       "      <th>Quantity</th>\n",
       "      <th>Sales</th>\n",
       "      <th>Age</th>\n",
       "      <th>Gender</th>\n",
       "      <th>Date</th>\n",
       "    </tr>\n",
       "  </thead>\n",
       "  <tbody>\n",
       "    <tr>\n",
       "      <th>0</th>\n",
       "      <td>Home &amp; Garden</td>\n",
       "      <td>766.85</td>\n",
       "      <td>4</td>\n",
       "      <td>3067.40</td>\n",
       "      <td>39</td>\n",
       "      <td>Male</td>\n",
       "      <td>25-05-2024</td>\n",
       "    </tr>\n",
       "    <tr>\n",
       "      <th>1</th>\n",
       "      <td>Clothing</td>\n",
       "      <td>331.42</td>\n",
       "      <td>4</td>\n",
       "      <td>1325.68</td>\n",
       "      <td>21</td>\n",
       "      <td>Male</td>\n",
       "      <td>04-05-2024</td>\n",
       "    </tr>\n",
       "    <tr>\n",
       "      <th>2</th>\n",
       "      <td>Clothing</td>\n",
       "      <td>708.10</td>\n",
       "      <td>10</td>\n",
       "      <td>7081.00</td>\n",
       "      <td>27</td>\n",
       "      <td>Female</td>\n",
       "      <td>07-05-2024</td>\n",
       "    </tr>\n",
       "    <tr>\n",
       "      <th>3</th>\n",
       "      <td>Electronics</td>\n",
       "      <td>774.09</td>\n",
       "      <td>2</td>\n",
       "      <td>1548.18</td>\n",
       "      <td>51</td>\n",
       "      <td>Female</td>\n",
       "      <td>23-05-2024</td>\n",
       "    </tr>\n",
       "    <tr>\n",
       "      <th>4</th>\n",
       "      <td>Electronics</td>\n",
       "      <td>397.22</td>\n",
       "      <td>1</td>\n",
       "      <td>397.22</td>\n",
       "      <td>45</td>\n",
       "      <td>Female</td>\n",
       "      <td>15-03-2024</td>\n",
       "    </tr>\n",
       "  </tbody>\n",
       "</table>\n",
       "</div>"
      ],
      "text/plain": [
       "        Category   Price  Quantity    Sales  Age  Gender        Date\n",
       "0  Home & Garden  766.85         4  3067.40   39    Male  25-05-2024\n",
       "1       Clothing  331.42         4  1325.68   21    Male  04-05-2024\n",
       "2       Clothing  708.10        10  7081.00   27  Female  07-05-2024\n",
       "3    Electronics  774.09         2  1548.18   51  Female  23-05-2024\n",
       "4    Electronics  397.22         1   397.22   45  Female  15-03-2024"
      ]
     },
     "execution_count": 12,
     "metadata": {},
     "output_type": "execute_result"
    }
   ],
   "source": [
    "df.head(5)"
   ]
  },
  {
   "cell_type": "code",
   "execution_count": 13,
   "id": "f1471871",
   "metadata": {},
   "outputs": [
    {
     "name": "stdout",
     "output_type": "stream",
     "text": [
      "Total Rows : 100000\n",
      "Total Columns : 7\n"
     ]
    }
   ],
   "source": [
    "# Total Rows and Columns\n",
    "print(\"Total Rows :\", df.shape[0])\n",
    "print(\"Total Columns :\", df.shape[1])"
   ]
  },
  {
   "cell_type": "code",
   "execution_count": 14,
   "id": "17456fde",
   "metadata": {},
   "outputs": [
    {
     "data": {
      "text/html": [
       "<div>\n",
       "<style scoped>\n",
       "    .dataframe tbody tr th:only-of-type {\n",
       "        vertical-align: middle;\n",
       "    }\n",
       "\n",
       "    .dataframe tbody tr th {\n",
       "        vertical-align: top;\n",
       "    }\n",
       "\n",
       "    .dataframe thead th {\n",
       "        text-align: right;\n",
       "    }\n",
       "</style>\n",
       "<table border=\"1\" class=\"dataframe\">\n",
       "  <thead>\n",
       "    <tr style=\"text-align: right;\">\n",
       "      <th></th>\n",
       "      <th>Feature</th>\n",
       "      <th>df Type</th>\n",
       "      <th>Null</th>\n",
       "      <th>Null (%)</th>\n",
       "      <th>Unique</th>\n",
       "      <th>Unique Sample</th>\n",
       "    </tr>\n",
       "  </thead>\n",
       "  <tbody>\n",
       "    <tr>\n",
       "      <th>0</th>\n",
       "      <td>Category</td>\n",
       "      <td>object</td>\n",
       "      <td>0</td>\n",
       "      <td>0.0</td>\n",
       "      <td>5</td>\n",
       "      <td>[Home &amp; Garden, Clothing, Electronics, Books, ...</td>\n",
       "    </tr>\n",
       "    <tr>\n",
       "      <th>1</th>\n",
       "      <td>Price</td>\n",
       "      <td>float64</td>\n",
       "      <td>0</td>\n",
       "      <td>0.0</td>\n",
       "      <td>60397</td>\n",
       "      <td>[766.85, 331.42, 708.1, 774.09, 397.22]</td>\n",
       "    </tr>\n",
       "    <tr>\n",
       "      <th>2</th>\n",
       "      <td>Quantity</td>\n",
       "      <td>int64</td>\n",
       "      <td>0</td>\n",
       "      <td>0.0</td>\n",
       "      <td>10</td>\n",
       "      <td>[4, 10, 2, 1, 8]</td>\n",
       "    </tr>\n",
       "    <tr>\n",
       "      <th>3</th>\n",
       "      <td>Sales</td>\n",
       "      <td>float64</td>\n",
       "      <td>0</td>\n",
       "      <td>0.0</td>\n",
       "      <td>87149</td>\n",
       "      <td>[3067.4, 1325.68, 7081.0, 1548.18, 397.22]</td>\n",
       "    </tr>\n",
       "    <tr>\n",
       "      <th>4</th>\n",
       "      <td>Age</td>\n",
       "      <td>int64</td>\n",
       "      <td>0</td>\n",
       "      <td>0.0</td>\n",
       "      <td>53</td>\n",
       "      <td>[39, 21, 27, 51, 45]</td>\n",
       "    </tr>\n",
       "    <tr>\n",
       "      <th>5</th>\n",
       "      <td>Gender</td>\n",
       "      <td>object</td>\n",
       "      <td>0</td>\n",
       "      <td>0.0</td>\n",
       "      <td>2</td>\n",
       "      <td>[Male, Female]</td>\n",
       "    </tr>\n",
       "    <tr>\n",
       "      <th>6</th>\n",
       "      <td>Date</td>\n",
       "      <td>object</td>\n",
       "      <td>0</td>\n",
       "      <td>0.0</td>\n",
       "      <td>156</td>\n",
       "      <td>[25-05-2024, 04-05-2024, 07-05-2024, 23-05-202...</td>\n",
       "    </tr>\n",
       "  </tbody>\n",
       "</table>\n",
       "</div>"
      ],
      "text/plain": [
       "    Feature  df Type   Null   Null (%)   Unique  \\\n",
       "0  Category   object      0        0.0        5   \n",
       "1     Price  float64      0        0.0    60397   \n",
       "2  Quantity    int64      0        0.0       10   \n",
       "3     Sales  float64      0        0.0    87149   \n",
       "4       Age    int64      0        0.0       53   \n",
       "5    Gender   object      0        0.0        2   \n",
       "6      Date   object      0        0.0      156   \n",
       "\n",
       "                                       Unique Sample  \n",
       "0  [Home & Garden, Clothing, Electronics, Books, ...  \n",
       "1            [766.85, 331.42, 708.1, 774.09, 397.22]  \n",
       "2                                   [4, 10, 2, 1, 8]  \n",
       "3         [3067.4, 1325.68, 7081.0, 1548.18, 397.22]  \n",
       "4                               [39, 21, 27, 51, 45]  \n",
       "5                                     [Male, Female]  \n",
       "6  [25-05-2024, 04-05-2024, 07-05-2024, 23-05-202...  "
      ]
     },
     "execution_count": 14,
     "metadata": {},
     "output_type": "execute_result"
    }
   ],
   "source": [
    "list_item = []\n",
    "for col in df.columns:\n",
    "    list_item.append([col, df[col].dtype, df[col].isna().sum(), 100*df[col].isna().sum()/len(df[col]), df[col].nunique(), \n",
    "                      df[col].unique()[:5]])\n",
    "desc_df = pd.DataFrame(data=list_item, columns='Feature, df Type, Null, Null (%), Unique, Unique Sample' .split(\",\"))\n",
    "desc_df"
   ]
  },
  {
   "cell_type": "code",
   "execution_count": 15,
   "id": "2dea76a5",
   "metadata": {},
   "outputs": [
    {
     "data": {
      "text/plain": [
       "array(['Home & Garden', 'Clothing', 'Electronics', 'Books', 'Toys'],\n",
       "      dtype=object)"
      ]
     },
     "execution_count": 15,
     "metadata": {},
     "output_type": "execute_result"
    }
   ],
   "source": [
    "df['Category'].unique()"
   ]
  },
  {
   "cell_type": "code",
   "execution_count": 16,
   "id": "3b4b9c37",
   "metadata": {},
   "outputs": [
    {
     "data": {
      "text/plain": [
       "array(['Male', 'Female'], dtype=object)"
      ]
     },
     "execution_count": 16,
     "metadata": {},
     "output_type": "execute_result"
    }
   ],
   "source": [
    "df['Gender'].unique()"
   ]
  },
  {
   "cell_type": "code",
   "execution_count": 17,
   "id": "bbdfd15e",
   "metadata": {},
   "outputs": [],
   "source": [
    "# Total Sales"
   ]
  },
  {
   "cell_type": "code",
   "execution_count": 18,
   "id": "a8f79e60",
   "metadata": {},
   "outputs": [
    {
     "name": "stdout",
     "output_type": "stream",
     "text": [
      "Total Sales: 302792670.18\n"
     ]
    }
   ],
   "source": [
    "total_sales = df['Sales'].sum()\n",
    "print(f'Total Sales: {total_sales:.2f}')"
   ]
  },
  {
   "cell_type": "code",
   "execution_count": 19,
   "id": "e0a62089",
   "metadata": {},
   "outputs": [],
   "source": [
    "# Sales by Category"
   ]
  },
  {
   "cell_type": "code",
   "execution_count": 20,
   "id": "01affaac",
   "metadata": {},
   "outputs": [
    {
     "data": {
      "image/png": "[encoded data removed]",
      "text/plain": [
       "<Figure size 1440x432 with 1 Axes>"
      ]
     },
     "metadata": {
      "needs_background": "light"
     },
     "output_type": "display_data"
    }
   ],
   "source": [
    "plt.figure(figsize=(20, 6))\n",
    "sales_by_category = df.groupby('Category')['Sales'].sum().sort_values(ascending=False)\n",
    "sales_by_category.plot(kind='bar', color='skyblue')\n",
    "plt.title('Sales by Category')\n",
    "plt.xlabel('Category')\n",
    "plt.ylabel('Total Sales')\n",
    "\n",
    "for index, value in enumerate(sales_by_category):\n",
    "    plt.text(index, value, f'{value: .2f}', ha='center', va='bottom')\n",
    "    \n",
    "plt.show()"
   ]
  },
  {
   "cell_type": "code",
   "execution_count": 21,
   "id": "0243844b",
   "metadata": {},
   "outputs": [],
   "source": [
    "# Category with Highest Sales: Clothing, and Category with Lowest Sales: Electronics."
   ]
  },
  {
   "cell_type": "code",
   "execution_count": 22,
   "id": "0c8997af",
   "metadata": {},
   "outputs": [
    {
     "data": {
      "text/plain": [
       "Category\n",
       "Clothing         61071489.36\n",
       "Books            60820086.17\n",
       "Home & Garden    60670371.57\n",
       "Toys             60274785.96\n",
       "Electronics      59955937.12\n",
       "Name: Sales, dtype: float64"
      ]
     },
     "execution_count": 22,
     "metadata": {},
     "output_type": "execute_result"
    }
   ],
   "source": [
    "sales_by_category"
   ]
  },
  {
   "cell_type": "code",
   "execution_count": 23,
   "id": "3028f755",
   "metadata": {},
   "outputs": [],
   "source": [
    "# Customer Segmentation"
   ]
  },
  {
   "cell_type": "code",
   "execution_count": 24,
   "id": "9599f6f1",
   "metadata": {},
   "outputs": [],
   "source": [
    "# Categorizing Customers by Age\n",
    "age_ranges = [0, 20, 40, np.inf]\n",
    "age_labels = ['0-20', '21-40', '40+']\n",
    "\n",
    "# Categorize customers into age groups\n",
    "df['Age Group'] = pd.cut(df['Age'], bins=age_ranges, labels=age_labels)"
   ]
  },
  {
   "cell_type": "code",
   "execution_count": 25,
   "id": "16a8c7a3",
   "metadata": {},
   "outputs": [
    {
     "data": {
      "text/plain": [
       "40+      56758\n",
       "21-40    37671\n",
       "0-20      5571\n",
       "Name: Age Group, dtype: int64"
      ]
     },
     "execution_count": 25,
     "metadata": {},
     "output_type": "execute_result"
    }
   ],
   "source": [
    "df['Age Group'].value_counts()"
   ]
  },
  {
   "cell_type": "code",
   "execution_count": 26,
   "id": "e9085918",
   "metadata": {},
   "outputs": [
    {
     "data": {
      "image/png": "[encoded data removed]",
      "text/plain": [
       "<Figure size 720x432 with 1 Axes>"
      ]
     },
     "metadata": {
      "needs_background": "light"
     },
     "output_type": "display_data"
    }
   ],
   "source": [
    "# Visualize customer age distribution\n",
    "plt.figure(figsize=(10, 6))\n",
    "\n",
    "ax = sns.countplot(data=df, x='Age Group', order=age_labels)\n",
    "for bars in ax.containers:\n",
    "    ax.bar_label(bars)\n",
    "    \n",
    "\n",
    "plt.title('Customer Age Distribution')\n",
    "plt.xlabel('Age Group')\n",
    "plt.ylabel('Count')\n",
    "plt.show()"
   ]
  },
  {
   "cell_type": "code",
   "execution_count": 27,
   "id": "07234989",
   "metadata": {},
   "outputs": [],
   "source": [
    "# Age Group with the most customers: 40+ (56,758), and Age Group with the fewest customers: 0-20 (5,571)."
   ]
  },
  {
   "cell_type": "code",
   "execution_count": 28,
   "id": "57fe7bfc",
   "metadata": {},
   "outputs": [],
   "source": [
    "# Sales by Customer Age Group"
   ]
  },
  {
   "cell_type": "code",
   "execution_count": 29,
   "id": "27ee30f6",
   "metadata": {},
   "outputs": [
    {
     "data": {
      "image/png": "[encoded data removed]",
      "text/plain": [
       "<Figure size 720x432 with 1 Axes>"
      ]
     },
     "metadata": {
      "needs_background": "light"
     },
     "output_type": "display_data"
    }
   ],
   "source": [
    "plt.figure(figsize=(10, 6))\n",
    "age_group_sales = df.groupby('Age Group')['Sales'].sum().sort_values(ascending=False)\n",
    "age_group_sales.plot(kind='bar', color='skyblue')\n",
    "plt.title('Sales by Customer Age Group')\n",
    "plt.xlabel('Customer Age Group')\n",
    "plt.ylabel('Total Sales')\n",
    "\n",
    "for index, value in enumerate(age_group_sales):\n",
    "    plt.text(index, value, f'{value: .2f}', ha='center', va='bottom')\n",
    "    \n",
    "plt.show()"
   ]
  },
  {
   "cell_type": "code",
   "execution_count": 30,
   "id": "9a62966a",
   "metadata": {},
   "outputs": [],
   "source": [
    "# Age Group with the Highest Sales: 40+ Age Group, and Age Group with the Lowest Sales: 0-20 Age Group."
   ]
  },
  {
   "cell_type": "code",
   "execution_count": 31,
   "id": "67038c7d",
   "metadata": {},
   "outputs": [],
   "source": [
    "# Segmentation Based on Sales"
   ]
  },
  {
   "cell_type": "code",
   "execution_count": 32,
   "id": "39a3599a",
   "metadata": {},
   "outputs": [
    {
     "data": {
      "text/plain": [
       "Low-Value     43174\n",
       "High-Value    29076\n",
       "Mid-Value     27750\n",
       "Name: Customer Segment, dtype: int64"
      ]
     },
     "execution_count": 32,
     "metadata": {},
     "output_type": "execute_result"
    }
   ],
   "source": [
    "low_value_threshold = 2000\n",
    "high_value_threshold = 4000\n",
    "\n",
    "def categorize_customers(sales):\n",
    "    if sales <= low_value_threshold:\n",
    "        return \"Low-Value\"\n",
    "    elif sales <= high_value_threshold:\n",
    "        return \"Mid-Value\"\n",
    "    else:\n",
    "        return \"High-Value\"\n",
    "\n",
    "df['Customer Segment'] = df['Sales'].apply(categorize_customers)\n",
    "\n",
    "segment_counts = df['Customer Segment'].value_counts()\n",
    "segment_counts"
   ]
  },
  {
   "cell_type": "code",
   "execution_count": 33,
   "id": "0534f5ed",
   "metadata": {},
   "outputs": [
    {
     "data": {
      "image/png": "[encoded data removed]",
      "text/plain": [
       "<Figure size 720x432 with 1 Axes>"
      ]
     },
     "metadata": {
      "needs_background": "light"
     },
     "output_type": "display_data"
    }
   ],
   "source": [
    "# Visualize customer segment distribution\n",
    "plt.figure(figsize=(10, 6))\n",
    "\n",
    "ax = sns.countplot(data=df, x='Customer Segment')\n",
    "for bars in ax.containers:\n",
    "    ax.bar_label(bars)\n",
    "    \n",
    "\n",
    "plt.title('Customer Segment Distribution')\n",
    "plt.xlabel('Customer Segment')\n",
    "plt.ylabel('Count')\n",
    "plt.show()"
   ]
  },
  {
   "cell_type": "code",
   "execution_count": 34,
   "id": "a4d0a839",
   "metadata": {},
   "outputs": [],
   "source": [
    "# Customer Segment with the most customers: Low-Value (43,174), \n",
    "# and Customer Segment with the fewest customers: Mid-Value (27,750)."
   ]
  },
  {
   "cell_type": "code",
   "execution_count": 35,
   "id": "8281eed0",
   "metadata": {},
   "outputs": [],
   "source": [
    "# Sales by Customer Segment"
   ]
  },
  {
   "cell_type": "code",
   "execution_count": 36,
   "id": "30d44ef8",
   "metadata": {},
   "outputs": [
    {
     "data": {
      "image/png": "[encoded data removed]",
      "text/plain": [
       "<Figure size 720x432 with 1 Axes>"
      ]
     },
     "metadata": {
      "needs_background": "light"
     },
     "output_type": "display_data"
    }
   ],
   "source": [
    "plt.figure(figsize=(10, 6))\n",
    "sales_by_customer_segment = df.groupby('Customer Segment')['Sales'].sum().sort_values(ascending=False)\n",
    "sales_by_customer_segment.plot(kind='bar', color='skyblue')\n",
    "plt.title('Sales by Customer Segment')\n",
    "plt.xlabel('Customer Segment')\n",
    "plt.ylabel('Total Sales')\n",
    "\n",
    "for index, value in enumerate(sales_by_customer_segment):\n",
    "    plt.text(index, value, f'{value: .2f}', ha='center', va='bottom')\n",
    "    \n",
    "plt.show()"
   ]
  },
  {
   "cell_type": "code",
   "execution_count": 37,
   "id": "19b2d3b6",
   "metadata": {},
   "outputs": [],
   "source": [
    "# Customer Segment with the Highest Sales: High-Value, and Customer Segment with the Lowest Sales: Low-Value."
   ]
  },
  {
   "cell_type": "code",
   "execution_count": 38,
   "id": "964c85c1",
   "metadata": {},
   "outputs": [
    {
     "data": {
      "text/plain": [
       "Female    50090\n",
       "Male      49910\n",
       "Name: Gender, dtype: int64"
      ]
     },
     "execution_count": 38,
     "metadata": {},
     "output_type": "execute_result"
    }
   ],
   "source": [
    "gender_count = df['Gender'].value_counts()\n",
    "gender_count"
   ]
  },
  {
   "cell_type": "code",
   "execution_count": 39,
   "id": "e16d45a4",
   "metadata": {},
   "outputs": [
    {
     "data": {
      "image/png": "[encoded data removed]",
      "text/plain": [
       "<Figure size 432x288 with 1 Axes>"
      ]
     },
     "metadata": {},
     "output_type": "display_data"
    }
   ],
   "source": [
    "gender_count.plot(kind='pie', autopct='%1.2f%%')\n",
    "plt.title('Gender')\n",
    "plt.show()"
   ]
  },
  {
   "cell_type": "code",
   "execution_count": 40,
   "id": "f7d72a39",
   "metadata": {},
   "outputs": [],
   "source": [
    "# There are more female customers (50090, 50.09%) than male customers (49910, 49.91%)."
   ]
  },
  {
   "cell_type": "code",
   "execution_count": 41,
   "id": "dbb5de80",
   "metadata": {},
   "outputs": [],
   "source": [
    "# Sales by Gender"
   ]
  },
  {
   "cell_type": "code",
   "execution_count": 42,
   "id": "7d7141f7",
   "metadata": {},
   "outputs": [
    {
     "data": {
      "image/png": "[encoded data removed]",
      "text/plain": [
       "<Figure size 720x432 with 1 Axes>"
      ]
     },
     "metadata": {
      "needs_background": "light"
     },
     "output_type": "display_data"
    }
   ],
   "source": [
    "plt.figure(figsize=(10, 6))\n",
    "sales_by_gender = df.groupby('Gender')['Sales'].sum().sort_values(ascending=False)\n",
    "sales_by_gender.plot(kind='bar', color='skyblue')\n",
    "plt.title('Sales by Gender')\n",
    "plt.xlabel('Gender')\n",
    "plt.ylabel('Total Sales')\n",
    "\n",
    "for index, value in enumerate(sales_by_gender):\n",
    "    plt.text(index, value, f'{value: .2f}', ha='center', va='bottom')\n",
    "    \n",
    "plt.show()"
   ]
  },
  {
   "cell_type": "code",
   "execution_count": 43,
   "id": "b6374333",
   "metadata": {},
   "outputs": [],
   "source": [
    "# Male customers contribute more to total sales than female customers. "
   ]
  },
  {
   "cell_type": "code",
   "execution_count": 44,
   "id": "f3806c75",
   "metadata": {},
   "outputs": [
    {
     "data": {
      "text/html": [
       "<div>\n",
       "<style scoped>\n",
       "    .dataframe tbody tr th:only-of-type {\n",
       "        vertical-align: middle;\n",
       "    }\n",
       "\n",
       "    .dataframe tbody tr th {\n",
       "        vertical-align: top;\n",
       "    }\n",
       "\n",
       "    .dataframe thead th {\n",
       "        text-align: right;\n",
       "    }\n",
       "</style>\n",
       "<table border=\"1\" class=\"dataframe\">\n",
       "  <thead>\n",
       "    <tr style=\"text-align: right;\">\n",
       "      <th></th>\n",
       "      <th>Category</th>\n",
       "      <th>Price</th>\n",
       "      <th>Quantity</th>\n",
       "      <th>Sales</th>\n",
       "      <th>Age</th>\n",
       "      <th>Gender</th>\n",
       "      <th>Date</th>\n",
       "      <th>Age Group</th>\n",
       "      <th>Customer Segment</th>\n",
       "      <th>Month</th>\n",
       "      <th>Year</th>\n",
       "    </tr>\n",
       "  </thead>\n",
       "  <tbody>\n",
       "    <tr>\n",
       "      <th>0</th>\n",
       "      <td>Home &amp; Garden</td>\n",
       "      <td>766.85</td>\n",
       "      <td>4</td>\n",
       "      <td>3067.40</td>\n",
       "      <td>39</td>\n",
       "      <td>Male</td>\n",
       "      <td>25-05-2024</td>\n",
       "      <td>21-40</td>\n",
       "      <td>Mid-Value</td>\n",
       "      <td>5</td>\n",
       "      <td>2024</td>\n",
       "    </tr>\n",
       "    <tr>\n",
       "      <th>1</th>\n",
       "      <td>Clothing</td>\n",
       "      <td>331.42</td>\n",
       "      <td>4</td>\n",
       "      <td>1325.68</td>\n",
       "      <td>21</td>\n",
       "      <td>Male</td>\n",
       "      <td>04-05-2024</td>\n",
       "      <td>21-40</td>\n",
       "      <td>Low-Value</td>\n",
       "      <td>4</td>\n",
       "      <td>2024</td>\n",
       "    </tr>\n",
       "    <tr>\n",
       "      <th>2</th>\n",
       "      <td>Clothing</td>\n",
       "      <td>708.10</td>\n",
       "      <td>10</td>\n",
       "      <td>7081.00</td>\n",
       "      <td>27</td>\n",
       "      <td>Female</td>\n",
       "      <td>07-05-2024</td>\n",
       "      <td>21-40</td>\n",
       "      <td>High-Value</td>\n",
       "      <td>7</td>\n",
       "      <td>2024</td>\n",
       "    </tr>\n",
       "    <tr>\n",
       "      <th>3</th>\n",
       "      <td>Electronics</td>\n",
       "      <td>774.09</td>\n",
       "      <td>2</td>\n",
       "      <td>1548.18</td>\n",
       "      <td>51</td>\n",
       "      <td>Female</td>\n",
       "      <td>23-05-2024</td>\n",
       "      <td>40+</td>\n",
       "      <td>Low-Value</td>\n",
       "      <td>5</td>\n",
       "      <td>2024</td>\n",
       "    </tr>\n",
       "    <tr>\n",
       "      <th>4</th>\n",
       "      <td>Electronics</td>\n",
       "      <td>397.22</td>\n",
       "      <td>1</td>\n",
       "      <td>397.22</td>\n",
       "      <td>45</td>\n",
       "      <td>Female</td>\n",
       "      <td>15-03-2024</td>\n",
       "      <td>40+</td>\n",
       "      <td>Low-Value</td>\n",
       "      <td>3</td>\n",
       "      <td>2024</td>\n",
       "    </tr>\n",
       "  </tbody>\n",
       "</table>\n",
       "</div>"
      ],
      "text/plain": [
       "        Category   Price  Quantity    Sales  Age  Gender        Date  \\\n",
       "0  Home & Garden  766.85         4  3067.40   39    Male  25-05-2024   \n",
       "1       Clothing  331.42         4  1325.68   21    Male  04-05-2024   \n",
       "2       Clothing  708.10        10  7081.00   27  Female  07-05-2024   \n",
       "3    Electronics  774.09         2  1548.18   51  Female  23-05-2024   \n",
       "4    Electronics  397.22         1   397.22   45  Female  15-03-2024   \n",
       "\n",
       "  Age Group Customer Segment  Month  Year  \n",
       "0     21-40        Mid-Value      5  2024  \n",
       "1     21-40        Low-Value      4  2024  \n",
       "2     21-40       High-Value      7  2024  \n",
       "3       40+        Low-Value      5  2024  \n",
       "4       40+        Low-Value      3  2024  "
      ]
     },
     "execution_count": 44,
     "metadata": {},
     "output_type": "execute_result"
    }
   ],
   "source": [
    "df['Month'] = pd.to_datetime(df[\"Date\"]).dt.month\n",
    "df['Year'] = pd.to_datetime(df[\"Date\"]).dt.year\n",
    "df.head(5)"
   ]
  },
  {
   "cell_type": "code",
   "execution_count": 45,
   "id": "5a34e5a0",
   "metadata": {},
   "outputs": [
    {
     "data": {
      "text/plain": [
       "array([ 5,  4,  7,  3,  2, 12,  1,  8, 11,  6,  9, 10], dtype=int64)"
      ]
     },
     "execution_count": 45,
     "metadata": {},
     "output_type": "execute_result"
    }
   ],
   "source": [
    "df['Month'].unique()"
   ]
  },
  {
   "cell_type": "code",
   "execution_count": 46,
   "id": "425c2795",
   "metadata": {},
   "outputs": [
    {
     "data": {
      "text/plain": [
       "array([2024], dtype=int64)"
      ]
     },
     "execution_count": 46,
     "metadata": {},
     "output_type": "execute_result"
    }
   ],
   "source": [
    "df['Year'].unique()"
   ]
  },
  {
   "cell_type": "code",
   "execution_count": 47,
   "id": "9afa1b1f",
   "metadata": {},
   "outputs": [],
   "source": [
    "# Monthly Sales Trend"
   ]
  },
  {
   "cell_type": "code",
   "execution_count": 48,
   "id": "f99cf069",
   "metadata": {},
   "outputs": [
    {
     "data": {
      "image/png": "[encoded data removed]",
      "text/plain": [
       "<Figure size 720x432 with 1 Axes>"
      ]
     },
     "metadata": {
      "needs_background": "light"
     },
     "output_type": "display_data"
    }
   ],
   "source": [
    "plt.figure(figsize=(10, 6))\n",
    "sales_by_month = df.groupby('Month').sum()['Sales']\n",
    "sales_by_month.plot()\n",
    "plt.grid()"
   ]
  },
  {
   "cell_type": "code",
   "execution_count": 49,
   "id": "04285ba8",
   "metadata": {},
   "outputs": [],
   "source": [
    "# Month with the highest sales: 3rd Month (March), and Month with the lowest sales: 6th Month (June)."
   ]
  },
  {
   "cell_type": "code",
   "execution_count": 50,
   "id": "22c4483e",
   "metadata": {},
   "outputs": [
    {
     "data": {
      "text/plain": [
       "Month\n",
       "1     48133245.08\n",
       "2     44852816.95\n",
       "3     49281535.55\n",
       "4     46696869.64\n",
       "5     45648387.68\n",
       "6      9423579.47\n",
       "7      9536042.86\n",
       "8      9788315.74\n",
       "9      9972666.21\n",
       "10     9911071.34\n",
       "11     9684154.86\n",
       "12     9863984.80\n",
       "Name: Sales, dtype: float64"
      ]
     },
     "execution_count": 50,
     "metadata": {},
     "output_type": "execute_result"
    }
   ],
   "source": [
    "sales_by_month"
   ]
  },
  {
   "cell_type": "code",
   "execution_count": 51,
   "id": "9117ff88",
   "metadata": {},
   "outputs": [],
   "source": [
    "# Insights:\n",
    "# Category with Highest Sales: Clothing, and Category with Lowest Sales: Electronics.\n",
    "# Age Group with the most customers: 40+ (56,758), and Age Group with the fewest customers: 0-20 (5,571).\n",
    "# Age Group with the Highest Sales: 40+ Age Group, and Age Group with the Lowest Sales: 0-20 Age Group.\n",
    "# Customer Segment with the most customers: Low-Value (43,174), \n",
    "# and Customer Segment with the fewest customers: Mid-Value (27,750).\n",
    "# Customer Segment with the Highest Sales: High-Value, and Customer Segment with the Lowest Sales: Low-Value.\n",
    "# There are more female customers (50090, 50.09%) than male customers (49910, 49.91%).\n",
    "# Male customers contribute more to total sales than female customers. \n",
    "# Month with the highest sales: 3rd Month (March), and Month with the lowest sales: 6th Month (June)."
   ]
  },
  {
   "cell_type": "code",
   "execution_count": 52,
   "id": "75e3261f",
   "metadata": {},
   "outputs": [],
   "source": [
    "# Conclusion:\n",
    "\n",
    "# High-Value customers are responsible for the highest sales, and the 40+ age group has both the most customers and the highest \n",
    "# -sales. Concentrating marketing and product development on this group is the most efficient path to revenue growth.\n",
    "\n",
    "# Clothing has the highest overall sales, so investing in promotions within this category will likely yield the best return.\n",
    "\n",
    "#  While female customers are the majority, they contribute less to total sales than male customers. Offer promotions \n",
    "# -on high-cost items or bundles that provide greater value for customers.\n",
    "\n",
    "# The \"High-Value\" segment contributes the most sales, increasing loyalty programs and personalized outreach to this group \n",
    "# -will likely drive repeat business and increase their overall lifetime value. \n",
    "\n",
    "# Sales peak in March. Focusing promotional efforts during these times will take advantage of existing positive trends \n",
    "# -to maximize sales."
   ]
  },
  {
   "cell_type": "code",
   "execution_count": null,
   "id": "1348b4c3",
   "metadata": {},
   "outputs": [],
   "source": []
  }
 ],
 "metadata": {
  "kernelspec": {
   "display_name": "Python 3 (ipykernel)",
   "language": "python",
   "name": "python3"
  },
  "language_info": {
   "codemirror_mode": {
    "name": "ipython",
    "version": 3
   },
   "file_extension": ".py",
   "mimetype": "text/x-python",
   "name": "python",
   "nbconvert_exporter": "python",
   "pygments_lexer": "ipython3",
   "version": "3.9.7"
  }
 },
 "nbformat": 4,
 "nbformat_minor": 5
}
